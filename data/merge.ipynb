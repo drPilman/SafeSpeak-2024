{
 "cells": [
  {
   "cell_type": "code",
   "execution_count": 2,
   "metadata": {},
   "outputs": [],
   "source": [
    "import polars as pl"
   ]
  },
  {
   "cell_type": "code",
   "execution_count": null,
   "metadata": {},
   "outputs": [],
   "source": []
  },
  {
   "cell_type": "code",
   "execution_count": 28,
   "metadata": {},
   "outputs": [],
   "source": [
    "all_datasets = {\n",
    "    \"train\":[(\"ASVspoof2019.LA.cm.train.trn.txt\", \"safespeak/asv19/LA/ASVspoof2019_LA_train/flac\"),(\"ASVspoof5.train.metadata.txt\",\"asvspoof5/train_new/flac_T\")],\n",
    "    \"validate\":[(\"ASVspoof5.dev.metadata.txt\", \"asvspoof5/dev_new/flac_D\"),(\"ASVspoof2019.LA.cm.dev.trl.txt\",\"safespeak/asv19/LA/ASVspoof2019_LA_dev/flac\")],\n",
    "    \"eval\":[(\"ASVspoof2019.LA.cm.eval.trl.txt\", \"safespeak/asv19/LA/ASVspoof2019_LA_eval/flac\")]\n",
    "}"
   ]
  },
  {
   "cell_type": "code",
   "execution_count": 57,
   "metadata": {},
   "outputs": [],
   "source": [
    "for part, datasets in all_datasets.items():\n",
    "    merged = []\n",
    "    for (csv, path) in datasets:\n",
    "        df = pl.scan_csv(csv, separator=\" \", has_header=False).select(pl.format(f\"{path}/{{}}.flac\",\"column_2\").alias(\"path\"), pl.col(\"column_5\").is_in([\"bonafide\"]).cast(pl.Int8).alias(\"label\")).collect()\n",
    "        merged.append(df)\n",
    "    merged: pl.DataFrame = pl.concat(merged)\n",
    "    merged.write_csv(f\"{part}.csv\")"
   ]
  },
  {
   "cell_type": "code",
   "execution_count": 58,
   "metadata": {},
   "outputs": [
    {
     "data": {
      "text/html": [
       "<div><style>\n",
       ".dataframe > thead > tr,\n",
       ".dataframe > tbody > tr {\n",
       "  text-align: right;\n",
       "  white-space: pre-wrap;\n",
       "}\n",
       "</style>\n",
       "<small>shape: (71_237, 2)</small><table border=\"1\" class=\"dataframe\"><thead><tr><th>path</th><th>label</th></tr><tr><td>str</td><td>i8</td></tr></thead><tbody><tr><td>&quot;safespeak/asv19/LA/ASVspoof201…</td><td>0</td></tr><tr><td>&quot;safespeak/asv19/LA/ASVspoof201…</td><td>0</td></tr><tr><td>&quot;safespeak/asv19/LA/ASVspoof201…</td><td>0</td></tr><tr><td>&quot;safespeak/asv19/LA/ASVspoof201…</td><td>0</td></tr><tr><td>&quot;safespeak/asv19/LA/ASVspoof201…</td><td>0</td></tr><tr><td>&hellip;</td><td>&hellip;</td></tr><tr><td>&quot;safespeak/asv19/LA/ASVspoof201…</td><td>1</td></tr><tr><td>&quot;safespeak/asv19/LA/ASVspoof201…</td><td>0</td></tr><tr><td>&quot;safespeak/asv19/LA/ASVspoof201…</td><td>0</td></tr><tr><td>&quot;safespeak/asv19/LA/ASVspoof201…</td><td>1</td></tr><tr><td>&quot;safespeak/asv19/LA/ASVspoof201…</td><td>0</td></tr></tbody></table></div>"
      ],
      "text/plain": [
       "shape: (71_237, 2)\n",
       "┌─────────────────────────────────┬───────┐\n",
       "│ path                            ┆ label │\n",
       "│ ---                             ┆ ---   │\n",
       "│ str                             ┆ i8    │\n",
       "╞═════════════════════════════════╪═══════╡\n",
       "│ safespeak/asv19/LA/ASVspoof201… ┆ 0     │\n",
       "│ safespeak/asv19/LA/ASVspoof201… ┆ 0     │\n",
       "│ safespeak/asv19/LA/ASVspoof201… ┆ 0     │\n",
       "│ safespeak/asv19/LA/ASVspoof201… ┆ 0     │\n",
       "│ safespeak/asv19/LA/ASVspoof201… ┆ 0     │\n",
       "│ …                               ┆ …     │\n",
       "│ safespeak/asv19/LA/ASVspoof201… ┆ 1     │\n",
       "│ safespeak/asv19/LA/ASVspoof201… ┆ 0     │\n",
       "│ safespeak/asv19/LA/ASVspoof201… ┆ 0     │\n",
       "│ safespeak/asv19/LA/ASVspoof201… ┆ 1     │\n",
       "│ safespeak/asv19/LA/ASVspoof201… ┆ 0     │\n",
       "└─────────────────────────────────┴───────┘"
      ]
     },
     "execution_count": 58,
     "metadata": {},
     "output_type": "execute_result"
    }
   ],
   "source": [
    "merged"
   ]
  },
  {
   "cell_type": "code",
   "execution_count": 45,
   "metadata": {},
   "outputs": [
    {
     "data": {
      "text/html": [
       "<div><style>\n",
       ".dataframe > thead > tr,\n",
       ".dataframe > tbody > tr {\n",
       "  text-align: right;\n",
       "  white-space: pre-wrap;\n",
       "}\n",
       "</style>\n",
       "<small>shape: (25_380, 2)</small><table border=\"1\" class=\"dataframe\"><thead><tr><th>path</th><th>label</th></tr><tr><td>str</td><td>bool</td></tr></thead><tbody><tr><td>&quot;bbb/LA_T_1138215.flac&quot;</td><td>true</td></tr><tr><td>&quot;bbb/LA_T_1271820.flac&quot;</td><td>true</td></tr><tr><td>&quot;bbb/LA_T_1272637.flac&quot;</td><td>true</td></tr><tr><td>&quot;bbb/LA_T_1276960.flac&quot;</td><td>true</td></tr><tr><td>&quot;bbb/LA_T_1341447.flac&quot;</td><td>true</td></tr><tr><td>&hellip;</td><td>&hellip;</td></tr><tr><td>&quot;bbb/LA_T_9717580.flac&quot;</td><td>false</td></tr><tr><td>&quot;bbb/LA_T_9779814.flac&quot;</td><td>false</td></tr><tr><td>&quot;bbb/LA_T_9783312.flac&quot;</td><td>false</td></tr><tr><td>&quot;bbb/LA_T_9839348.flac&quot;</td><td>false</td></tr><tr><td>&quot;bbb/LA_T_9982036.flac&quot;</td><td>false</td></tr></tbody></table></div>"
      ],
      "text/plain": [
       "shape: (25_380, 2)\n",
       "┌───────────────────────┬───────┐\n",
       "│ path                  ┆ label │\n",
       "│ ---                   ┆ ---   │\n",
       "│ str                   ┆ bool  │\n",
       "╞═══════════════════════╪═══════╡\n",
       "│ bbb/LA_T_1138215.flac ┆ true  │\n",
       "│ bbb/LA_T_1271820.flac ┆ true  │\n",
       "│ bbb/LA_T_1272637.flac ┆ true  │\n",
       "│ bbb/LA_T_1276960.flac ┆ true  │\n",
       "│ bbb/LA_T_1341447.flac ┆ true  │\n",
       "│ …                     ┆ …     │\n",
       "│ bbb/LA_T_9717580.flac ┆ false │\n",
       "│ bbb/LA_T_9779814.flac ┆ false │\n",
       "│ bbb/LA_T_9783312.flac ┆ false │\n",
       "│ bbb/LA_T_9839348.flac ┆ false │\n",
       "│ bbb/LA_T_9982036.flac ┆ false │\n",
       "└───────────────────────┴───────┘"
      ]
     },
     "execution_count": 45,
     "metadata": {},
     "output_type": "execute_result"
    }
   ],
   "source": [
    "csv = \"ASVspoof2019.LA.cm.train.trn.txt\"\n",
    "path = \"bbb\"\n",
    "df = pl.scan_csv(csv, separator=\" \", has_header=False).select(pl.format(f\"{path}/{{}}.flac\",\"column_2\").alias(\"path\"), pl.col(\"column_5\").is_in([\"bonafide\"]).alias(\"label\")).collect()\n",
    "df"
   ]
  },
  {
   "cell_type": "code",
   "execution_count": 44,
   "metadata": {},
   "outputs": [
    {
     "data": {
      "text/html": [
       "<div><style>\n",
       ".dataframe > thead > tr,\n",
       ".dataframe > tbody > tr {\n",
       "  text-align: right;\n",
       "  white-space: pre-wrap;\n",
       "}\n",
       "</style>\n",
       "<small>shape: (25_380, 5)</small><table border=\"1\" class=\"dataframe\"><thead><tr><th>column_1</th><th>column_2</th><th>column_3</th><th>column_4</th><th>column_5</th></tr><tr><td>str</td><td>str</td><td>str</td><td>str</td><td>str</td></tr></thead><tbody><tr><td>&quot;LA_0079&quot;</td><td>&quot;LA_T_1138215&quot;</td><td>&quot;-&quot;</td><td>&quot;-&quot;</td><td>&quot;bonafide&quot;</td></tr><tr><td>&quot;LA_0079&quot;</td><td>&quot;LA_T_1271820&quot;</td><td>&quot;-&quot;</td><td>&quot;-&quot;</td><td>&quot;bonafide&quot;</td></tr><tr><td>&quot;LA_0079&quot;</td><td>&quot;LA_T_1272637&quot;</td><td>&quot;-&quot;</td><td>&quot;-&quot;</td><td>&quot;bonafide&quot;</td></tr><tr><td>&quot;LA_0079&quot;</td><td>&quot;LA_T_1276960&quot;</td><td>&quot;-&quot;</td><td>&quot;-&quot;</td><td>&quot;bonafide&quot;</td></tr><tr><td>&quot;LA_0079&quot;</td><td>&quot;LA_T_1341447&quot;</td><td>&quot;-&quot;</td><td>&quot;-&quot;</td><td>&quot;bonafide&quot;</td></tr><tr><td>&hellip;</td><td>&hellip;</td><td>&hellip;</td><td>&hellip;</td><td>&hellip;</td></tr><tr><td>&quot;LA_0098&quot;</td><td>&quot;LA_T_9717580&quot;</td><td>&quot;-&quot;</td><td>&quot;A06&quot;</td><td>&quot;spoof&quot;</td></tr><tr><td>&quot;LA_0098&quot;</td><td>&quot;LA_T_9779814&quot;</td><td>&quot;-&quot;</td><td>&quot;A06&quot;</td><td>&quot;spoof&quot;</td></tr><tr><td>&quot;LA_0098&quot;</td><td>&quot;LA_T_9783312&quot;</td><td>&quot;-&quot;</td><td>&quot;A06&quot;</td><td>&quot;spoof&quot;</td></tr><tr><td>&quot;LA_0098&quot;</td><td>&quot;LA_T_9839348&quot;</td><td>&quot;-&quot;</td><td>&quot;A06&quot;</td><td>&quot;spoof&quot;</td></tr><tr><td>&quot;LA_0098&quot;</td><td>&quot;LA_T_9982036&quot;</td><td>&quot;-&quot;</td><td>&quot;A06&quot;</td><td>&quot;spoof&quot;</td></tr></tbody></table></div>"
      ],
      "text/plain": [
       "shape: (25_380, 5)\n",
       "┌──────────┬──────────────┬──────────┬──────────┬──────────┐\n",
       "│ column_1 ┆ column_2     ┆ column_3 ┆ column_4 ┆ column_5 │\n",
       "│ ---      ┆ ---          ┆ ---      ┆ ---      ┆ ---      │\n",
       "│ str      ┆ str          ┆ str      ┆ str      ┆ str      │\n",
       "╞══════════╪══════════════╪══════════╪══════════╪══════════╡\n",
       "│ LA_0079  ┆ LA_T_1138215 ┆ -        ┆ -        ┆ bonafide │\n",
       "│ LA_0079  ┆ LA_T_1271820 ┆ -        ┆ -        ┆ bonafide │\n",
       "│ LA_0079  ┆ LA_T_1272637 ┆ -        ┆ -        ┆ bonafide │\n",
       "│ LA_0079  ┆ LA_T_1276960 ┆ -        ┆ -        ┆ bonafide │\n",
       "│ LA_0079  ┆ LA_T_1341447 ┆ -        ┆ -        ┆ bonafide │\n",
       "│ …        ┆ …            ┆ …        ┆ …        ┆ …        │\n",
       "│ LA_0098  ┆ LA_T_9717580 ┆ -        ┆ A06      ┆ spoof    │\n",
       "│ LA_0098  ┆ LA_T_9779814 ┆ -        ┆ A06      ┆ spoof    │\n",
       "│ LA_0098  ┆ LA_T_9783312 ┆ -        ┆ A06      ┆ spoof    │\n",
       "│ LA_0098  ┆ LA_T_9839348 ┆ -        ┆ A06      ┆ spoof    │\n",
       "│ LA_0098  ┆ LA_T_9982036 ┆ -        ┆ A06      ┆ spoof    │\n",
       "└──────────┴──────────────┴──────────┴──────────┴──────────┘"
      ]
     },
     "execution_count": 44,
     "metadata": {},
     "output_type": "execute_result"
    }
   ],
   "source": [
    "pl.scan_csv(csv, separator=\" \", has_header=False).collect()"
   ]
  },
  {
   "cell_type": "code",
   "execution_count": null,
   "metadata": {},
   "outputs": [],
   "source": []
  }
 ],
 "metadata": {
  "kernelspec": {
   "display_name": "base",
   "language": "python",
   "name": "python3"
  },
  "language_info": {
   "codemirror_mode": {
    "name": "ipython",
    "version": 3
   },
   "file_extension": ".py",
   "mimetype": "text/x-python",
   "name": "python",
   "nbconvert_exporter": "python",
   "pygments_lexer": "ipython3",
   "version": "3.12.2"
  }
 },
 "nbformat": 4,
 "nbformat_minor": 2
}
